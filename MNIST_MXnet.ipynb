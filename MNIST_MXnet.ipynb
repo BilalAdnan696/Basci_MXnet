{
  "nbformat": 4,
  "nbformat_minor": 0,
  "metadata": {
    "colab": {
      "name": "MNIST MXnet.ipynb",
      "provenance": []
    },
    "kernelspec": {
      "name": "python3",
      "display_name": "Python 3"
    },
    "language_info": {
      "name": "python"
    },
    "accelerator": "GPU"
  },
  "cells": [
    {
      "cell_type": "code",
      "metadata": {
        "colab": {
          "base_uri": "https://localhost:8080/"
        },
        "id": "9SmskmHe63lF",
        "outputId": "116cc8d0-b15e-409b-b71c-9809b70d5d66"
      },
      "source": [
        "!pip install mxnet"
      ],
      "execution_count": 2,
      "outputs": [
        {
          "output_type": "stream",
          "text": [
            "Collecting mxnet\n",
            "  Downloading mxnet-1.8.0.post0-py2.py3-none-manylinux2014_x86_64.whl (46.9 MB)\n",
            "\u001b[K     |████████████████████████████████| 46.9 MB 42 kB/s \n",
            "\u001b[?25hCollecting graphviz<0.9.0,>=0.8.1\n",
            "  Downloading graphviz-0.8.4-py2.py3-none-any.whl (16 kB)\n",
            "Requirement already satisfied: requests<3,>=2.20.0 in /usr/local/lib/python3.7/dist-packages (from mxnet) (2.23.0)\n",
            "Requirement already satisfied: numpy<2.0.0,>1.16.0 in /usr/local/lib/python3.7/dist-packages (from mxnet) (1.19.5)\n",
            "Requirement already satisfied: idna<3,>=2.5 in /usr/local/lib/python3.7/dist-packages (from requests<3,>=2.20.0->mxnet) (2.10)\n",
            "Requirement already satisfied: chardet<4,>=3.0.2 in /usr/local/lib/python3.7/dist-packages (from requests<3,>=2.20.0->mxnet) (3.0.4)\n",
            "Requirement already satisfied: certifi>=2017.4.17 in /usr/local/lib/python3.7/dist-packages (from requests<3,>=2.20.0->mxnet) (2021.5.30)\n",
            "Requirement already satisfied: urllib3!=1.25.0,!=1.25.1,<1.26,>=1.21.1 in /usr/local/lib/python3.7/dist-packages (from requests<3,>=2.20.0->mxnet) (1.24.3)\n",
            "Installing collected packages: graphviz, mxnet\n",
            "  Attempting uninstall: graphviz\n",
            "    Found existing installation: graphviz 0.10.1\n",
            "    Uninstalling graphviz-0.10.1:\n",
            "      Successfully uninstalled graphviz-0.10.1\n",
            "Successfully installed graphviz-0.8.4 mxnet-1.8.0.post0\n"
          ],
          "name": "stdout"
        }
      ]
    },
    {
      "cell_type": "code",
      "metadata": {
        "id": "sGM21Sh-UxuH"
      },
      "source": [
        "import mxnet as mx\n",
        "import numpy as np\n",
        "import matplotlib.pyplot as plt\n",
        "from mxnet import nd,autograd,gluon\n",
        "from mxnet.gluon import nn"
      ],
      "execution_count": 14,
      "outputs": []
    },
    {
      "cell_type": "code",
      "metadata": {
        "id": "G3Ajy3nbVumG"
      },
      "source": [
        "td=mx.gluon.data.vision.MNIST(train=True)\n",
        "vd=mx.gluon.data.vision.MNIST(train=False)"
      ],
      "execution_count": 15,
      "outputs": []
    },
    {
      "cell_type": "code",
      "metadata": {
        "id": "M-_1IJYWWpB6"
      },
      "source": [
        "def f_transform(data):\n",
        "  return nd.moveaxis(data,2,0).astype('float32')/255"
      ],
      "execution_count": 16,
      "outputs": []
    },
    {
      "cell_type": "code",
      "metadata": {
        "id": "02P3uL_hXFgA"
      },
      "source": [
        "train_data=td.transform_first(f_transform)\n",
        "val_data=vd.transform_first(f_transform)"
      ],
      "execution_count": 17,
      "outputs": []
    },
    {
      "cell_type": "code",
      "metadata": {
        "id": "35v04GhJXP4M"
      },
      "source": [
        "batch_size=50\n",
        "tL=mx.gluon.data.DataLoader(train_data,shuffle=True,batch_size=batch_size)"
      ],
      "execution_count": 18,
      "outputs": []
    },
    {
      "cell_type": "code",
      "metadata": {
        "id": "oZznoXAXXpGP"
      },
      "source": [
        "vL=mx.gluon.data.DataLoader(val_data,shuffle=True,batch_size=batch_size)"
      ],
      "execution_count": 19,
      "outputs": []
    },
    {
      "cell_type": "code",
      "metadata": {
        "id": "nEdXdRr0X2Q-"
      },
      "source": [
        "model=nn.Sequential()\n",
        "with model.name_scope():\n",
        "  model.add(\n",
        "  nn.Flatten(),\n",
        "  nn.Dense(128,activation='relu'),\n",
        "  nn.Dense(64,activation='relu'),\n",
        "  nn.Dense(32,activation='relu'),\n",
        "  nn.Dense(10,activation=None)\n",
        "  )"
      ],
      "execution_count": 20,
      "outputs": []
    },
    {
      "cell_type": "code",
      "metadata": {
        "id": "PaOUl7e0YinB"
      },
      "source": [
        "ctx=mx.cpu(0)"
      ],
      "execution_count": 21,
      "outputs": []
    },
    {
      "cell_type": "code",
      "metadata": {
        "id": "tY8HuU2cYqdU"
      },
      "source": [
        "model.initialize(mx.init.Xavier(),ctx)"
      ],
      "execution_count": 22,
      "outputs": []
    },
    {
      "cell_type": "code",
      "metadata": {
        "id": "vDP2OjMoY365"
      },
      "source": [
        "trainer=gluon.Trainer(\n",
        "    params=model.collect_params(),\n",
        "    optimizer='sgd',\n",
        "    optimizer_params={'learning_rate':0.01},\n",
        ")"
      ],
      "execution_count": 23,
      "outputs": []
    },
    {
      "cell_type": "code",
      "metadata": {
        "id": "vDJP1M4WZVBQ"
      },
      "source": [
        "metric=mx.metric.Accuracy()\n",
        "loss_function=gluon.loss.SoftmaxCrossEntropyLoss()"
      ],
      "execution_count": 24,
      "outputs": []
    },
    {
      "cell_type": "code",
      "metadata": {
        "colab": {
          "base_uri": "https://localhost:8080/"
        },
        "id": "iAat0x4xZmb4",
        "outputId": "66763204-78f9-411a-a8b9-821d6e3d491a"
      },
      "source": [
        "num_epochs=5\n",
        "\n",
        "for epoch in range(num_epochs):\n",
        "  for X,y in tL:\n",
        "    X= X.as_in_context(ctx)\n",
        "    y= y.as_in_context(ctx)\n",
        "\n",
        "    with autograd.record():\n",
        "      y_hat=model(X)\n",
        "      loss=loss_function(y_hat,y)\n",
        "\n",
        "    loss.backward()\n",
        "    metric.update(y,y_hat)\n",
        "    trainer.step(batch_size=X.shape[0])\n",
        "\n",
        "  name,acc=metric.get()\n",
        "  print(acc)\n",
        "  metric.reset()"
      ],
      "execution_count": 25,
      "outputs": [
        {
          "output_type": "stream",
          "text": [
            "0.7660166666666667\n",
            "0.9078666666666667\n",
            "0.9251333333333334\n",
            "0.9360666666666667\n",
            "0.9438666666666666\n"
          ],
          "name": "stdout"
        }
      ]
    },
    {
      "cell_type": "code",
      "metadata": {
        "colab": {
          "base_uri": "https://localhost:8080/"
        },
        "id": "wNDAMfCQb_Uu",
        "outputId": "b35a369b-3e8c-4a55-c968-0a9e3c4b4dda"
      },
      "source": [
        "metric=mx.metric.Accuracy()\n",
        "for Xv,yv in vL:\n",
        "  Xv=Xv.as_in_context(ctx)\n",
        "  yv=yv.as_in_context(ctx)\n",
        "  metric.update(yv,model(Xv))\n",
        "name,acc=metric.get()\n",
        "print(acc)"
      ],
      "execution_count": 26,
      "outputs": [
        {
          "output_type": "stream",
          "text": [
            "0.9469\n"
          ],
          "name": "stdout"
        }
      ]
    },
    {
      "cell_type": "code",
      "metadata": {
        "id": "5umXu2JXYe5g"
      },
      "source": [
        "model = nn.Sequential()\n",
        "with model.name_scope():\n",
        "  model.add(\n",
        "      nn.Conv2D(channels=32,kernel_size=(5,5),activation='relu'),\n",
        "      nn.MaxPool2D(pool_size=(2,2),strides=(2,2)),\n",
        "      nn.Dropout(0.3),\n",
        "      nn.Conv2D(channels=64,kernel_size=(5,5),activation='relu'),\n",
        "      nn.MaxPool2D(pool_size=(2,2),strides=(2,2)),\n",
        "      nn.Flatten(),\n",
        "      nn.Dense(128,activation='relu'),\n",
        "      nn.Dense(10,activation=None),\n",
        "  \n",
        "\n",
        "  )"
      ],
      "execution_count": 27,
      "outputs": []
    },
    {
      "cell_type": "code",
      "metadata": {
        "id": "poVu2jm6Z6RN"
      },
      "source": [
        "model.initialize(mx.init.Xavier())"
      ],
      "execution_count": 28,
      "outputs": []
    },
    {
      "cell_type": "code",
      "metadata": {
        "id": "idZaDhDmZdd9"
      },
      "source": [
        "trainer=gluon.Trainer(\n",
        "    params=model.collect_params(),\n",
        "    optimizer= 'sgd',\n",
        "    optimizer_params={'learning_rate':0.02}\n",
        ")"
      ],
      "execution_count": 29,
      "outputs": []
    },
    {
      "cell_type": "code",
      "metadata": {
        "id": "dx5iTRnyaBe7"
      },
      "source": [
        "metric=mx.metric.Accuracy()\n",
        "loss_function=mx.gluon.loss.SoftmaxCrossEntropyLoss()"
      ],
      "execution_count": 30,
      "outputs": []
    },
    {
      "cell_type": "code",
      "metadata": {
        "colab": {
          "base_uri": "https://localhost:8080/"
        },
        "id": "M-HeEm0kaSlS",
        "outputId": "28d21c40-7a33-4367-c82d-99e094f7ae1d"
      },
      "source": [
        "ctx=mx.cpu(0)\n",
        "\n",
        "epochs=5\n",
        "for ep in range(epochs):\n",
        "  for X,y in tL:\n",
        "    X=X.as_in_context(ctx)\n",
        "    y=y.as_in_context(ctx)\n",
        "\n",
        "    with autograd.record():\n",
        "      y_hat=model(X)\n",
        "      loss=loss_function(y_hat,y)\n",
        "    loss.backward()\n",
        "    metric.update(y,y_hat)\n",
        "    trainer.step(batch_size=X.shape[0])\n",
        "  name,acc=metric.get()\n",
        "  print(acc)\n",
        "  metric.reset()"
      ],
      "execution_count": 31,
      "outputs": [
        {
          "output_type": "stream",
          "text": [
            "0.8664666666666667\n",
            "0.962\n",
            "0.9718\n",
            "0.9777\n",
            "0.9813\n"
          ],
          "name": "stdout"
        }
      ]
    },
    {
      "cell_type": "code",
      "metadata": {
        "colab": {
          "base_uri": "https://localhost:8080/"
        },
        "id": "wI100zHIbaKc",
        "outputId": "2383793e-bcb0-4859-b301-a985fdef3338"
      },
      "source": [
        "metric=mx.metric.Accuracy()\n",
        "for Xv,yv in vL:\n",
        "  Xv=Xv.as_in_context(ctx)\n",
        "  yv=yv.as_in_context(ctx)\n",
        "  metric.update(yv,model(Xv))\n",
        "name,acc=metric.get()\n",
        "print(acc)"
      ],
      "execution_count": 32,
      "outputs": [
        {
          "output_type": "stream",
          "text": [
            "0.9863\n"
          ],
          "name": "stdout"
        }
      ]
    },
    {
      "cell_type": "code",
      "metadata": {
        "id": "r_yNyZ_HAnQe"
      },
      "source": [
        ""
      ],
      "execution_count": null,
      "outputs": []
    }
  ]
}